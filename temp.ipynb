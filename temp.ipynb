{
 "cells": [
  {
   "cell_type": "code",
   "execution_count": 8,
   "metadata": {},
   "outputs": [
    {
     "ename": "SyntaxError",
     "evalue": "(unicode error) 'unicodeescape' codec can't decode bytes in position 0-1: truncated \\UXXXXXXXX escape (1489400733.py, line 5)",
     "output_type": "error",
     "traceback": [
      "\u001b[1;36m  Cell \u001b[1;32mIn[8], line 5\u001b[1;36m\u001b[0m\n\u001b[1;33m    df=pd.read_csv('\\Users\\anapa\\OneDrive\\Área de Trabalho\\Análise de dados\\data.csv', sep = ';')\u001b[0m\n\u001b[1;37m                   ^\u001b[0m\n\u001b[1;31mSyntaxError\u001b[0m\u001b[1;31m:\u001b[0m (unicode error) 'unicodeescape' codec can't decode bytes in position 0-1: truncated \\UXXXXXXXX escape\n"
     ]
    }
   ],
   "source": [
    "from sklearn.preprocessing import LabelEncoder\n",
    "import pandas as pd\n",
    "def predict_stu():\n",
    "  label_encoder = LabelEncoder()\n",
    "  df=pd.read_csv('\\Users\\anapa\\OneDrive\\Área de Trabalho\\Análise de dados\\data.csv', sep = ';')\n",
    "  df = df.dropna()\n",
    "  cat = df.select_dtypes(exclude=['number'])\n",
    "\n",
    "  for col in cat.columns:\n",
    "      df[col] = label_encoder.fit_transform(df[col])\n",
    "  df = df.to_numpy()\n",
    "  target = df[:,-1]\n",
    "  data = df[:, :-1]\n",
    "  dataset = {'target':target,'data':data, 'info':'https://archive.ics.uci.edu/dataset/697/predict+students+dropout+and+academic+success', 'data_acess':'2023-11-2'}\n",
    "  return dataset\n"
   ]
  },
  {
   "cell_type": "code",
   "execution_count": null,
   "metadata": {},
   "outputs": [],
   "source": []
  },
  {
   "cell_type": "code",
   "execution_count": null,
   "metadata": {},
   "outputs": [],
   "source": []
  }
 ],
 "metadata": {
  "kernelspec": {
   "display_name": "Python 3",
   "language": "python",
   "name": "python3"
  },
  "language_info": {
   "codemirror_mode": {
    "name": "ipython",
    "version": 3
   },
   "file_extension": ".py",
   "mimetype": "text/x-python",
   "name": "python",
   "nbconvert_exporter": "python",
   "pygments_lexer": "ipython3",
   "version": "3.12.0"
  }
 },
 "nbformat": 4,
 "nbformat_minor": 2
}
