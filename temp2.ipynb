{
 "cells": [
  {
   "cell_type": "code",
   "execution_count": null,
   "metadata": {},
   "outputs": [],
   "source": [
    "from sklearn.preprocessing import LabelEncoder\n",
    "import pandas as pd\n",
    "def wine_quality():\n",
    "  label_encorder=LabelEncoder()\n",
    "  df=pd.read_csv('/winequality-red.csv',sep=';')\n",
    "  df=df.dropna()\n",
    "  df = df.to_numpy()\n",
    "  target = df[:,11]\n",
    "  data = df[:, :-1]\n",
    "  dataset= {'target':target,'data':data,'info': 'https://archive.ics.uci.edu/dataset/186/wine+quality', 'data_acess':'23-11-06'}\n",
    "  return dataset"
   ]
  }
 ],
 "metadata": {
  "kernelspec": {
   "display_name": "Python 3",
   "language": "python",
   "name": "python3"
  },
  "language_info": {
   "name": "python",
   "version": "3.12.0"
  }
 },
 "nbformat": 4,
 "nbformat_minor": 2
}
